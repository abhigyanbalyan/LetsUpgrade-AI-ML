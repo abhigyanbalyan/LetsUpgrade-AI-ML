{
 "cells": [
  {
   "cell_type": "code",
   "execution_count": 4,
   "metadata": {},
   "outputs": [
    {
     "name": "stdout",
     "output_type": "stream",
     "text": [
      "(12+8j)\n",
      "(-2-4j)\n",
      "(23+44j)\n",
      "(0.5529411764705883-0.18823529411764706j)\n"
     ]
    }
   ],
   "source": [
    "#Question 1 \n",
    "a=5+2j\n",
    "b=7+6j\n",
    "x=a+b\n",
    "y=a-b\n",
    "z=a*b\n",
    "n=a/b\n",
    "#t=a//b\n",
    "#w=a%b\n",
    "print(x)\n",
    "print(y)\n",
    "print(z)\n",
    "print(n)\n",
    "#print(t)\n",
    "#print(w)\n",
    "#Modulo and floor division is not possible with complex numbers"
   ]
  },
  {
   "cell_type": "code",
   "execution_count": 6,
   "metadata": {},
   "outputs": [
    {
     "name": "stdout",
     "output_type": "stream",
     "text": [
      "Enter first number : 12\n",
      "Enter second number : 2\n",
      "6.0\n"
     ]
    }
   ],
   "source": [
    "#Question 3\n",
    "x=int(input(\"Enter first number : \"))\n",
    "y=int(input(\"Enter second number : \"))\n",
    "z=x-y\n",
    "\n",
    "if z>25:\n",
    "    print(x*y)\n",
    "else:\n",
    "    print(x/y)"
   ]
  },
  {
   "cell_type": "code",
   "execution_count": 8,
   "metadata": {},
   "outputs": [
    {
     "name": "stdout",
     "output_type": "stream",
     "text": [
      "2\n",
      "14\n",
      "34\n",
      "62\n",
      "98\n"
     ]
    }
   ],
   "source": [
    "#Question 4 \n",
    "x=[1,2,3,4,5,6,7,8,9,10]\n",
    "for i in x:\n",
    "    if i%2==0:\n",
    "        print((i**2)-2)\n",
    "    else:\n",
    "        continue"
   ]
  },
  {
   "cell_type": "code",
   "execution_count": 24,
   "metadata": {},
   "outputs": [
    {
     "name": "stdout",
     "output_type": "stream",
     "text": [
      "43\n",
      "23\n",
      "22\n",
      "32\n",
      "18\n",
      "70\n",
      "50\n"
     ]
    }
   ],
   "source": [
    "#Question 5 Consider a list of 10 elements. Print all the elements in the list which are greater than 7 when that\n",
    "#number is divided 2.\n",
    "\n",
    "x=[12,43,5,23,22,32,18,70,8,50]\n",
    "for i in x:\n",
    "    y=i/2\n",
    "    if y>7:\n",
    "        print(i)\n",
    "    else:\n",
    "        continue\n"
   ]
  },
  {
   "cell_type": "code",
   "execution_count": null,
   "metadata": {},
   "outputs": [],
   "source": []
  },
  {
   "cell_type": "code",
   "execution_count": null,
   "metadata": {},
   "outputs": [],
   "source": []
  },
  {
   "cell_type": "code",
   "execution_count": null,
   "metadata": {},
   "outputs": [],
   "source": []
  }
 ],
 "metadata": {
  "kernelspec": {
   "display_name": "Python 3",
   "language": "python",
   "name": "python3"
  },
  "language_info": {
   "codemirror_mode": {
    "name": "ipython",
    "version": 3
   },
   "file_extension": ".py",
   "mimetype": "text/x-python",
   "name": "python",
   "nbconvert_exporter": "python",
   "pygments_lexer": "ipython3",
   "version": "3.7.3"
  }
 },
 "nbformat": 4,
 "nbformat_minor": 2
}
